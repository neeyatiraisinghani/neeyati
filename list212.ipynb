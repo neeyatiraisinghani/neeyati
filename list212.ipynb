{
  "nbformat": 4,
  "nbformat_minor": 0,
  "metadata": {
    "colab": {
      "provenance": [],
      "authorship_tag": "ABX9TyOU9ubNrbuIFOTqiJ7jpd3z",
      "include_colab_link": true
    },
    "kernelspec": {
      "name": "python3",
      "display_name": "Python 3"
    },
    "language_info": {
      "name": "python"
    }
  },
  "cells": [
    {
      "cell_type": "markdown",
      "metadata": {
        "id": "view-in-github",
        "colab_type": "text"
      },
      "source": [
        "<a href=\"https://colab.research.google.com/github/neeyatiraisinghani/neeyati/blob/main/list212.ipynb\" target=\"_parent\"><img src=\"https://colab.research.google.com/assets/colab-badge.svg\" alt=\"Open In Colab\"/></a>"
      ]
    },
    {
      "cell_type": "code",
      "execution_count": null,
      "metadata": {
        "colab": {
          "base_uri": "https://localhost:8080/"
        },
        "id": "zL223lfAbOLA",
        "outputId": "e94580c8-2f55-4efa-a4e5-c9d4f5f1ca94"
      },
      "outputs": [
        {
          "output_type": "stream",
          "name": "stdout",
          "text": [
            "10\n",
            "30\n",
            "60\n",
            "100\n",
            "150\n",
            "210\n",
            "280\n",
            "300\n",
            "330\n",
            "410\n"
          ]
        }
      ],
      "source": [
        "list1=[10,20,30,40,50,60,70,20,30,80]\n",
        "result=0\n",
        "for num in list1:\n",
        "  result+=num\n",
        "  print(result)\n",
        "\n"
      ]
    },
    {
      "cell_type": "code",
      "source": [
        "list1=[]\n",
        "num=int(input(\"enter number of elements\"))\n",
        "for i in range(1,num+1):\n",
        "  e=int(input(\"enter number of elemnets\"))\n",
        "  list1.append(e)\n",
        "print(\"largest number\",max(list1))\n"
      ],
      "metadata": {
        "colab": {
          "base_uri": "https://localhost:8080/"
        },
        "id": "KKCu2nlBfUuo",
        "outputId": "7411ce24-5630-4e78-cb52-c4b1b80f0b5e"
      },
      "execution_count": null,
      "outputs": [
        {
          "output_type": "stream",
          "name": "stdout",
          "text": [
            "enter number of elements4\n",
            "enter number of elemnets10\n",
            "enter number of elemnets20\n",
            "enter number of elemnets30\n",
            "enter number of elemnets40\n",
            "largest number 40\n"
          ]
        }
      ]
    },
    {
      "cell_type": "code",
      "source": [
        "\n",
        "list1=[\"naman\",\"aman\",\"anil\",\"ankit\",\"anju\"]\n",
        "largest_length=-1\n",
        "for e in list1:\n",
        "  if(len(e)>largest_length):\n",
        "   largest_length=len(e)\n",
        "   result=e\n",
        "\n",
        "print(\"largest string\",result)\n",
        "\n",
        "\n",
        "\n",
        "\n",
        "\n",
        "\n"
      ],
      "metadata": {
        "colab": {
          "base_uri": "https://localhost:8080/"
        },
        "id": "Y5nD71oHhq_k",
        "outputId": "37402e37-e03c-4502-b650-ad49d6ae03f7"
      },
      "execution_count": 4,
      "outputs": [
        {
          "output_type": "stream",
          "name": "stdout",
          "text": [
            "largest string naman\n"
          ]
        }
      ]
    },
    {
      "cell_type": "code",
      "source": [
        "s=0\n",
        "list1=['aba','121','kgf','abc']\n",
        "for x in list1:\n",
        "\n",
        "  if len(x)>1 and x[0]==x[-1]:\n",
        "    print(\"the given words are:\",x)\n",
        "    s=s+1\n",
        "print(\"the number of words you want\",s)"
      ],
      "metadata": {
        "colab": {
          "base_uri": "https://localhost:8080/"
        },
        "id": "dGPXtDuDZ7x8",
        "outputId": "85b6ccea-0faf-4df1-a2ac-ff1b50b0c353"
      },
      "execution_count": 12,
      "outputs": [
        {
          "output_type": "stream",
          "name": "stdout",
          "text": [
            "the given words are: aba\n",
            "the given words are: 121\n",
            "the number of words you want 2\n"
          ]
        }
      ]
    }
  ]
}