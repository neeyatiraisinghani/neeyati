{
  "nbformat": 4,
  "nbformat_minor": 0,
  "metadata": {
    "colab": {
      "provenance": [],
      "authorship_tag": "ABX9TyO9YSIO+nIeU0q08Cio6iqk",
      "include_colab_link": true
    },
    "kernelspec": {
      "name": "python3",
      "display_name": "Python 3"
    },
    "language_info": {
      "name": "python"
    }
  },
  "cells": [
    {
      "cell_type": "markdown",
      "metadata": {
        "id": "view-in-github",
        "colab_type": "text"
      },
      "source": [
        "<a href=\"https://colab.research.google.com/github/neeyatiraisinghani/neeyati/blob/main/list.ipynb\" target=\"_parent\"><img src=\"https://colab.research.google.com/assets/colab-badge.svg\" alt=\"Open In Colab\"/></a>"
      ]
    },
    {
      "cell_type": "code",
      "execution_count": 9,
      "metadata": {
        "colab": {
          "base_uri": "https://localhost:8080/"
        },
        "id": "T3oy7wzZUoXb",
        "outputId": "f02e0a42-ecd3-418b-efeb-bb0bec5cb5e2"
      },
      "outputs": [
        {
          "output_type": "stream",
          "name": "stdout",
          "text": [
            "['ankit', 'tiya', 'riya']\n"
          ]
        }
      ],
      "source": [
        "list1=['ankit','tiya']\n",
        "list2=list1.append(\"riya\")\n",
        "print (list1)\n"
      ]
    },
    {
      "cell_type": "code",
      "source": [
        "list1=['ankit','tiya']\n",
        "list1.insert(0,\"neeyati\")\n",
        "print(list1)\n",
        "if \"tiya\"  in list1:\n",
        "  print(\"cannot find\")\n"
      ],
      "metadata": {
        "colab": {
          "base_uri": "https://localhost:8080/"
        },
        "id": "wprgS3o2aUqr",
        "outputId": "ed212f23-b6fe-4a1a-df08-e32b7e1ba250"
      },
      "execution_count": 37,
      "outputs": [
        {
          "output_type": "stream",
          "name": "stdout",
          "text": [
            "['neeyati', 'ankit', 'tiya']\n",
            "cannot find\n"
          ]
        }
      ]
    },
    {
      "cell_type": "code",
      "source": [
        "list1=[\"tiya\",\"radha\"]\n",
        "n1,n2=list1\n",
        "print(n1)\n",
        "print(n2)"
      ],
      "metadata": {
        "colab": {
          "base_uri": "https://localhost:8080/"
        },
        "id": "Va3wx3ZmbRvW",
        "outputId": "6c2b39c9-9751-4f46-e1db-f4fa2d5c67a3"
      },
      "execution_count": 38,
      "outputs": [
        {
          "output_type": "stream",
          "name": "stdout",
          "text": [
            "tiya\n",
            "radha\n"
          ]
        }
      ]
    },
    {
      "cell_type": "code",
      "source": [
        "list1=[\"tiya\",\"radha\"]\n",
        "list2=[\"yo\",\"pen\"]\n",
        "list2.extend(list1)\n",
        "print(list2)\n"
      ],
      "metadata": {
        "colab": {
          "base_uri": "https://localhost:8080/"
        },
        "id": "hloPU5O7b9uo",
        "outputId": "b6a913d0-644c-404f-cfa4-d4065320ebaf"
      },
      "execution_count": 39,
      "outputs": [
        {
          "output_type": "stream",
          "name": "stdout",
          "text": [
            "['yo', 'pen', 'tiya', 'radha']\n"
          ]
        }
      ]
    }
  ]
}