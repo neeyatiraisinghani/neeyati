{
  "nbformat": 4,
  "nbformat_minor": 0,
  "metadata": {
    "colab": {
      "provenance": [],
      "authorship_tag": "ABX9TyPglc0XMjNMIM4fL4VmcD0+",
      "include_colab_link": true
    },
    "kernelspec": {
      "name": "python3",
      "display_name": "Python 3"
    },
    "language_info": {
      "name": "python"
    }
  },
  "cells": [
    {
      "cell_type": "markdown",
      "metadata": {
        "id": "view-in-github",
        "colab_type": "text"
      },
      "source": [
        "<a href=\"https://colab.research.google.com/github/neeyatiraisinghani/neeyati/blob/main/Untitled14.ipynb\" target=\"_parent\"><img src=\"https://colab.research.google.com/assets/colab-badge.svg\" alt=\"Open In Colab\"/></a>"
      ]
    },
    {
      "cell_type": "code",
      "execution_count": null,
      "metadata": {
        "colab": {
          "base_uri": "https://localhost:8080/"
        },
        "id": "qJhaiiSyAt6D",
        "outputId": "43882cbe-a813-44d0-fac2-d61b823e1dc4"
      },
      "outputs": [
        {
          "output_type": "stream",
          "name": "stdout",
          "text": [
            "set1 intersaction set2 {4, 6}\n"
          ]
        }
      ],
      "source": [
        "set1={2,4,5,6}\n",
        "set2={4,6,7,8}\n",
        "set3={4,6,8}\n",
        "print(\"set1 intersaction set2\",set1.intersection(set2))\n"
      ]
    },
    {
      "cell_type": "code",
      "source": [
        "set1={2,3,4,5}\n",
        "se2={2,5,6}\n",
        "print(set1.difference(set2))"
      ],
      "metadata": {
        "colab": {
          "base_uri": "https://localhost:8080/"
        },
        "id": "O70ZDs7DCJF3",
        "outputId": "8e897571-00f7-4893-f819-78cedd8137ca"
      },
      "execution_count": null,
      "outputs": [
        {
          "output_type": "stream",
          "name": "stdout",
          "text": [
            "{2, 3, 5}\n"
          ]
        }
      ]
    },
    {
      "cell_type": "code",
      "source": [
        "set1={1,2,3}\n",
        "set2={2,3,4}"
      ],
      "metadata": {
        "id": "pAWUS_mWCcdM"
      },
      "execution_count": null,
      "outputs": []
    },
    {
      "cell_type": "code",
      "source": [
        "user={\"name\":\"neeyati\",\"age\":20,\"subject\":\"cs\"}\n",
        "user[\"age\"]\n",
        "\n"
      ],
      "metadata": {
        "colab": {
          "base_uri": "https://localhost:8080/"
        },
        "id": "CCSNwymaDdBY",
        "outputId": "c0853b89-0082-43bf-c170-08cfef5514ff"
      },
      "execution_count": null,
      "outputs": [
        {
          "output_type": "execute_result",
          "data": {
            "text/plain": [
              "20"
            ]
          },
          "metadata": {},
          "execution_count": 11
        }
      ]
    },
    {
      "cell_type": "code",
      "source": [
        "user={\"name\":\"neeyati\",\"age\":20,\"subject\":list[\"maths\",\"science\"]}\n",
        "user[\"subject\"]"
      ],
      "metadata": {
        "colab": {
          "base_uri": "https://localhost:8080/"
        },
        "id": "pM5UgEBzEY_o",
        "outputId": "79454e0b-12ef-43cb-feb6-92560bf779c3"
      },
      "execution_count": null,
      "outputs": [
        {
          "output_type": "execute_result",
          "data": {
            "text/plain": [
              "list['maths', 'science']"
            ]
          },
          "metadata": {},
          "execution_count": 12
        }
      ]
    }
  ]
}