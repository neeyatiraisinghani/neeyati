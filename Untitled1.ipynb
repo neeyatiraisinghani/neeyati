{
  "nbformat": 4,
  "nbformat_minor": 0,
  "metadata": {
    "colab": {
      "provenance": [],
      "authorship_tag": "ABX9TyM/JpORIcqo4SY2mJtyerE2",
      "include_colab_link": true
    },
    "kernelspec": {
      "name": "python3",
      "display_name": "Python 3"
    },
    "language_info": {
      "name": "python"
    }
  },
  "cells": [
    {
      "cell_type": "markdown",
      "metadata": {
        "id": "view-in-github",
        "colab_type": "text"
      },
      "source": [
        "<a href=\"https://colab.research.google.com/github/neeyatiraisinghani/neeyati/blob/main/Untitled1.ipynb\" target=\"_parent\"><img src=\"https://colab.research.google.com/assets/colab-badge.svg\" alt=\"Open In Colab\"/></a>"
      ]
    },
    {
      "cell_type": "code",
      "execution_count": 2,
      "metadata": {
        "id": "6uRsp0M8wHif",
        "outputId": "87afe01e-f74a-4a71-9354-1ec58b97eb2b",
        "colab": {
          "base_uri": "https://localhost:8080/"
        }
      },
      "outputs": [
        {
          "output_type": "stream",
          "name": "stdout",
          "text": [
            "enter a value10\n",
            "enter another number20\n",
            "True\n"
          ]
        }
      ],
      "source": [
        "a=input('enter a value')\n",
        "b=input('enter another number')\n",
        "c=bool(a+b)\n",
        "print(c)"
      ]
    },
    {
      "cell_type": "code",
      "source": [
        "name=input('enter your name')\n",
        "print(name)"
      ],
      "metadata": {
        "id": "TOtdQ4r62V2A",
        "outputId": "b745316e-f222-4ab0-a0b9-ea1ed355c1eb",
        "colab": {
          "base_uri": "https://localhost:8080/"
        }
      },
      "execution_count": 3,
      "outputs": [
        {
          "output_type": "stream",
          "name": "stdout",
          "text": [
            "enter your nameneeyati\n",
            "neeyati\n"
          ]
        }
      ]
    },
    {
      "cell_type": "code",
      "source": [
        "# @title\n",
        "a=input('first number')\n",
        "b=input('second number')\n",
        "c=int(a+b)\n",
        "print(c)"
      ],
      "metadata": {
        "cellView": "form",
        "id": "7vJQU7t52jGT",
        "outputId": "17c9a196-ede3-4278-ec3c-2753025f1be2",
        "colab": {
          "base_uri": "https://localhost:8080/"
        }
      },
      "execution_count": 5,
      "outputs": [
        {
          "output_type": "stream",
          "name": "stdout",
          "text": [
            "first number10\n",
            "second number20\n",
            "1020\n"
          ]
        }
      ]
    }
  ]
}