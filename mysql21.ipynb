{
  "cells": [
    {
      "cell_type": "markdown",
      "metadata": {
        "id": "view-in-github",
        "colab_type": "text"
      },
      "source": [
        "<a href=\"https://colab.research.google.com/github/neeyatiraisinghani/neeyati/blob/main/mysql21.ipynb\" target=\"_parent\"><img src=\"https://colab.research.google.com/assets/colab-badge.svg\" alt=\"Open In Colab\"/></a>"
      ]
    },
    {
      "cell_type": "code",
      "execution_count": null,
      "metadata": {
        "colab": {
          "base_uri": "https://localhost:8080/"
        },
        "id": "uaNXSiE6klpY",
        "outputId": "6b772c97-c12f-400b-a4dc-2838c6f20b27"
      },
      "outputs": [
        {
          "name": "stdout",
          "output_type": "stream",
          "text": [
            "Reading package lists... Done\n",
            "Building dependency tree... Done\n",
            "Reading state information... Done\n",
            "mysql-server is already the newest version (8.0.36-0ubuntu0.22.04.1).\n",
            "0 upgraded, 0 newly installed, 0 to remove and 32 not upgraded.\n"
          ]
        }
      ],
      "source": [
        "!apt-get -y install mysql-server"
      ]
    },
    {
      "cell_type": "code",
      "execution_count": null,
      "metadata": {
        "colab": {
          "base_uri": "https://localhost:8080/"
        },
        "id": "ulHsJckQlbV7",
        "outputId": "8a0d889a-6ada-4fec-f8a1-0036a4cf92c0"
      },
      "outputs": [
        {
          "name": "stdout",
          "output_type": "stream",
          "text": [
            " * Starting MySQL database server mysqld\n",
            "   ...done.\n"
          ]
        }
      ],
      "source": [
        "!service mysql start"
      ]
    },
    {
      "cell_type": "code",
      "execution_count": null,
      "metadata": {
        "colab": {
          "base_uri": "https://localhost:8080/"
        },
        "id": "KlF0aOfOljK_",
        "outputId": "63aa2592-ff74-4176-ceb0-edc2c4180533"
      },
      "outputs": [
        {
          "name": "stdout",
          "output_type": "stream",
          "text": [
            "Collecting mysql-connector-python\n",
            "  Downloading mysql_connector_python-8.3.0-cp310-cp310-manylinux_2_17_x86_64.whl (21.5 MB)\n",
            "\u001b[2K     \u001b[90m━━━━━━━━━━━━━━━━━━━━━━━━━━━━━━━━━━━━━━━━\u001b[0m \u001b[32m21.5/21.5 MB\u001b[0m \u001b[31m37.1 MB/s\u001b[0m eta \u001b[36m0:00:00\u001b[0m\n",
            "\u001b[?25hInstalling collected packages: mysql-connector-python\n",
            "Successfully installed mysql-connector-python-8.3.0\n"
          ]
        }
      ],
      "source": [
        "!pip install mysql-connector-python"
      ]
    },
    {
      "cell_type": "code",
      "execution_count": null,
      "metadata": {
        "colab": {
          "base_uri": "https://localhost:8080/"
        },
        "id": "2gPPnttymqjR",
        "outputId": "ca22d0d1-bf0d-4c2c-825a-364e915ee183"
      },
      "outputs": [
        {
          "name": "stdout",
          "output_type": "stream",
          "text": [
            "ERROR 1045 (28000): Access denied for user 'root'@'localhost' (using password: NO)\n"
          ]
        }
      ],
      "source": [
        "!mysql -e \"ALTER USER 'root'@'localhost' IDENTIFIED  BY 'root';FLUSH PRIVILEGES;\""
      ]
    },
    {
      "cell_type": "code",
      "execution_count": null,
      "metadata": {
        "colab": {
          "base_uri": "https://localhost:8080/"
        },
        "id": "tz7OfVS3nRG0",
        "outputId": "aff45ddf-9e9c-4645-9fd4-b42d627fa6c0"
      },
      "outputs": [
        {
          "name": "stdout",
          "output_type": "stream",
          "text": [
            " * Starting MySQL database server mysqld\n",
            "   ...done.\n"
          ]
        }
      ],
      "source": [
        "!sudo service mysql start"
      ]
    },
    {
      "cell_type": "code",
      "execution_count": null,
      "metadata": {
        "colab": {
          "base_uri": "https://localhost:8080/"
        },
        "id": "1v9lPFx4n4Fn",
        "outputId": "e08fae4f-9153-4527-a70d-6537b40cbd02"
      },
      "outputs": [
        {
          "name": "stdout",
          "output_type": "stream",
          "text": [
            "ERROR 1064 (42000) at line 1: You have an error in your SQL syntax; check the manual that corresponds to your MySQL server version for the right syntax to use near ''localhost'IDENTIFIED By 'root'' at line 1\n",
            "mysql  Ver 8.0.36-0ubuntu0.22.04.1 for Linux on x86_64 ((Ubuntu))\n",
            "Copyright (c) 2000, 2024, Oracle and/or its affiliates.\n",
            "\n",
            "Oracle is a registered trademark of Oracle Corporation and/or its\n",
            "affiliates. Other names may be trademarks of their respective\n",
            "owners.\n",
            "\n",
            "Usage: mysql [OPTIONS] [database]\n",
            "  -?, --help          Display this help and exit.\n",
            "  -I, --help          Synonym for -?\n",
            "  --auto-rehash       Enable automatic rehashing. One doesn't need to use\n",
            "                      'rehash' to get table and field completion, but startup\n",
            "                      and reconnecting may take a longer time. Disable with\n",
            "                      --disable-auto-rehash.\n",
            "                      (Defaults to on; use --skip-auto-rehash to disable.)\n",
            "  -A, --no-auto-rehash \n",
            "                      No automatic rehashing. One has to use 'rehash' to get\n",
            "                      table and field completion. This gives a quicker start of\n",
            "                      mysql and disables rehashing on reconnect.\n",
            "  --auto-vertical-output \n",
            "                      Automatically switch to vertical output mode if the\n",
            "                      result is wider than the terminal width.\n",
            "  -B, --batch         Don't use history file. Disable interactive behavior.\n",
            "                      (Enables --silent.)\n",
            "  --bind-address=name IP address to bind to.\n",
            "  --binary-as-hex     Print binary data as hex. Enabled by default for\n",
            "                      interactive terminals.\n",
            "  --character-sets-dir=name \n",
            "                      Directory for character set files.\n",
            "  --column-type-info  Display column type information.\n",
            "  -c, --comments      Preserve comments. Send comments to the server. The\n",
            "                      default is --skip-comments (discard comments), enable\n",
            "                      with --comments.\n",
            "  -C, --compress      Use compression in server/client protocol.\n",
            "  -#, --debug[=#]     This is a non-debug version. Catch this and exit.\n",
            "  --debug-check       This is a non-debug version. Catch this and exit.\n",
            "  -T, --debug-info    This is a non-debug version. Catch this and exit.\n",
            "  -D, --database=name Database to use.\n",
            "  --default-character-set=name \n",
            "                      Set the default character set.\n",
            "  --delimiter=name    Delimiter to be used.\n",
            "  --enable-cleartext-plugin \n",
            "                      Enable/disable the clear text authentication plugin.\n",
            "  -e, --execute=name  Execute command and quit. (Disables --force and history\n",
            "                      file.)\n",
            "  -E, --vertical      Print the output of a query (rows) vertically.\n",
            "  -f, --force         Continue even if we get an SQL error.\n",
            "  --histignore=name   A colon-separated list of patterns to keep statements\n",
            "                      from getting logged into syslog and mysql history.\n",
            "  -G, --named-commands \n",
            "                      Enable named commands. Named commands mean this program's\n",
            "                      internal commands; see mysql> help . When enabled, the\n",
            "                      named commands can be used from any line of the query,\n",
            "                      otherwise only from the first line, before an enter.\n",
            "                      Disable with --disable-named-commands. This option is\n",
            "                      disabled by default.\n",
            "  -i, --ignore-spaces Ignore space after function names.\n",
            "  --init-command=name SQL Command to execute when connecting to MySQL server.\n",
            "                      Will automatically be re-executed when reconnecting.\n",
            "  --local-infile      Enable/disable LOAD DATA LOCAL INFILE.\n",
            "  -b, --no-beep       Turn off beep on error.\n",
            "  -h, --host=name     Connect to host.\n",
            "  --dns-srv-name=name Connect to a DNS SRV resource\n",
            "  -H, --html          Produce HTML output.\n",
            "  -X, --xml           Produce XML output.\n",
            "  --line-numbers      Write line numbers for errors.\n",
            "                      (Defaults to on; use --skip-line-numbers to disable.)\n",
            "  -L, --skip-line-numbers \n",
            "                      Don't write line number for errors.\n",
            "  -n, --unbuffered    Flush buffer after each query.\n",
            "  --column-names      Write column names in results.\n",
            "                      (Defaults to on; use --skip-column-names to disable.)\n",
            "  -N, --skip-column-names \n",
            "                      Don't write column names in results.\n",
            "  --sigint-ignore     Ignore SIGINT (CTRL-C).\n",
            "  -o, --one-database  Ignore statements except those that occur while the\n",
            "                      default database is the one named at the command line.\n",
            "  --pager[=name]      Pager to use to display results. If you don't supply an\n",
            "                      option, the default pager is taken from your ENV variable\n",
            "                      PAGER. Valid pagers are less, more, cat [> filename],\n",
            "                      etc. See interactive help (\\h) also. This option does not\n",
            "                      work in batch mode. Disable with --disable-pager. This\n",
            "                      option is disabled by default.\n",
            "  -p, --password[=name] \n",
            "                      Password to use when connecting to server. If password is\n",
            "                      not given it's asked from the tty.\n",
            "  -,, --password1[=name] \n",
            "                      Password for first factor authentication plugin.\n",
            "  -,, --password2[=name] \n",
            "                      Password for second factor authentication plugin.\n",
            "  -,, --password3[=name] \n",
            "                      Password for third factor authentication plugin.\n",
            "  -P, --port=#        Port number to use for connection or 0 for default to, in\n",
            "                      order of preference, my.cnf, $MYSQL_TCP_PORT,\n",
            "                      /etc/services, built-in default (3306).\n",
            "  --prompt=name       Set the mysql prompt to this value.\n",
            "  --protocol=name     The protocol to use for connection (tcp, socket, pipe,\n",
            "                      memory).\n",
            "  -q, --quick         Don't cache result, print it row by row. This may slow\n",
            "                      down the server if the output is suspended. Doesn't use\n",
            "                      history file.\n",
            "  -r, --raw           Write fields without conversion. Used with --batch.\n",
            "  --reconnect         Reconnect if the connection is lost. Disable with\n",
            "                      --disable-reconnect. This option is enabled by default.\n",
            "                      (Defaults to on; use --skip-reconnect to disable.)\n",
            "  -s, --silent        Be more silent. Print results with a tab as separator,\n",
            "                      each row on new line.\n",
            "  -S, --socket=name   The socket file to use for connection.\n",
            "  --server-public-key-path=name \n",
            "                      File path to the server public RSA key in PEM format.\n",
            "  --get-server-public-key \n",
            "                      Get server public key\n",
            "  --ssl-mode=name     SSL connection mode.\n",
            "  --ssl-ca=name       CA file in PEM format.\n",
            "  --ssl-capath=name   CA directory.\n",
            "  --ssl-cert=name     X509 cert in PEM format.\n",
            "  --ssl-cipher=name   SSL cipher to use.\n",
            "  --ssl-key=name      X509 key in PEM format.\n",
            "  --ssl-crl=name      Certificate revocation list.\n",
            "  --ssl-crlpath=name  Certificate revocation list path.\n",
            "  --tls-version=name  TLS version to use, permitted values are: TLSv1.2,\n",
            "                      TLSv1.3\n",
            "  --ssl-fips-mode=name \n",
            "                      SSL FIPS mode (applies only for OpenSSL); permitted\n",
            "                      values are: OFF, ON, STRICT\n",
            "  --tls-ciphersuites=name \n",
            "                      TLS v1.3 cipher to use.\n",
            "  --ssl-session-data=name \n",
            "                      Session data file to use to enable ssl session reuse\n",
            "  --ssl-session-data-continue-on-failed-reuse \n",
            "                      If set to ON, this option will allow connection to\n",
            "                      succeed even if session data cannot be reused.\n",
            "  -t, --table         Output in table format.\n",
            "  --tee=name          Append everything into outfile. See interactive help (\\h)\n",
            "                      also. Does not work in batch mode. Disable with\n",
            "                      --disable-tee. This option is disabled by default.\n",
            "  -u, --user=name     User for login if not current user.\n",
            "  -U, --safe-updates  Only allow UPDATE and DELETE that uses keys.\n",
            "  -U, --i-am-a-dummy  Synonym for option --safe-updates, -U.\n",
            "  -v, --verbose       Write more. (-v -v -v gives the table output format).\n",
            "  -V, --version       Output version information and exit.\n",
            "  -w, --wait          Wait and retry if connection is down.\n",
            "  --connect-timeout=# Number of seconds before connection timeout.\n",
            "  --max-allowed-packet=# \n",
            "                      The maximum packet length to send to or receive from\n",
            "                      server.\n",
            "  --net-buffer-length=# \n",
            "                      The buffer size for TCP/IP and socket communication.\n",
            "  --select-limit=#    Automatic limit for SELECT when using --safe-updates.\n",
            "  --max-join-size=#   Automatic limit for rows in a join when using\n",
            "                      --safe-updates.\n",
            "  --show-warnings     Show warnings after every statement.\n",
            "  -j, --syslog        Log filtered interactive commands to syslog. Filtering of\n",
            "                      commands depends on the patterns supplied via histignore\n",
            "                      option besides the default patterns.\n",
            "  --plugin-dir=name   Directory for client-side plugins.\n",
            "  --default-auth=name Default authentication client-side plugin to use.\n",
            "  --binary-mode       By default, ASCII '\\0' is disallowed and '\\r\\n' is\n",
            "                      translated to '\\n'. This switch turns off both features,\n",
            "                      and also turns off parsing of all clientcommands except\n",
            "                      \\C and DELIMITER, in non-interactive mode (for input\n",
            "                      piped to mysql or loaded using the 'source' command).\n",
            "                      This is necessary when processing output from mysqlbinlog\n",
            "                      that may contain blobs.\n",
            "  --connect-expired-password \n",
            "                      Notify the server that this client is prepared to handle\n",
            "                      expired password sandbox mode.\n",
            "  --network-namespace=name \n",
            "                      Network namespace to use for connection via tcp with a\n",
            "                      server.\n",
            "  --compression-algorithms=name \n",
            "                      Use compression algorithm in server/client protocol.\n",
            "                      Valid values are any combination of\n",
            "                      'zstd','zlib','uncompressed'.\n",
            "  --zstd-compression-level=# \n",
            "                      Use this compression level in the client/server protocol,\n",
            "                      in case --compression-algorithms=zstd. Valid range is\n",
            "                      between 1 and 22, inclusive. Default is 3.\n",
            "  --load-data-local-dir=name \n",
            "                      Directory path safe for LOAD DATA LOCAL INFILE to read\n",
            "                      from.\n",
            "  --fido-register-factor=name \n",
            "                      Specifies authentication factor, for which registration\n",
            "                      needs to be done.\n",
            "  --authentication-oci-client-config-profile=name \n",
            "                      Specifies the configuration profile whose configuration\n",
            "                      options are to be read from the OCI configuration file.\n",
            "                      Default is DEFAULT.\n",
            "  --oci-config-file=name \n",
            "                      Specifies the location of the OCI configuration file.\n",
            "                      Default for Linux is ~/.oci/config and %HOME/.oci/config\n",
            "                      on Windows.\n",
            "\n",
            "Default options are read from the following files in the given order:\n",
            "/etc/my.cnf /etc/mysql/my.cnf ~/.my.cnf \n",
            "The following groups are read: mysql client\n",
            "The following options may be given as the first argument:\n",
            "--print-defaults        Print the program argument list and exit.\n",
            "--no-defaults           Don't read default options from any option file,\n",
            "                        except for login file.\n",
            "--defaults-file=#       Only read default options from the given file #.\n",
            "--defaults-extra-file=# Read this file after the global files are read.\n",
            "--defaults-group-suffix=#\n",
            "                        Also read groups with concat(group, suffix)\n",
            "--login-path=#          Read this path from the login file.\n",
            "\n",
            "Variables (--variable-name=value)\n",
            "and boolean options {FALSE|TRUE}          Value (after reading options)\n",
            "----------------------------------------- --------------------------------\n",
            "auto-rehash                               TRUE\n",
            "auto-vertical-output                      FALSE\n",
            "bind-address                              (No default value)\n",
            "binary-as-hex                             FALSE\n",
            "character-sets-dir                        (No default value)\n",
            "column-type-info                          FALSE\n",
            "comments                                  FALSE\n",
            "compress                                  FALSE\n",
            "database                                  (No default value)\n",
            "default-character-set                     auto\n",
            "delimiter                                 ;\n",
            "enable-cleartext-plugin                   FALSE\n",
            "vertical                                  FALSE\n",
            "force                                     FALSE\n",
            "histignore                                (No default value)\n",
            "named-commands                            FALSE\n",
            "ignore-spaces                             FALSE\n",
            "init-command                              (No default value)\n",
            "local-infile                              FALSE\n",
            "no-beep                                   FALSE\n",
            "host                                      (No default value)\n",
            "dns-srv-name                              (No default value)\n",
            "html                                      FALSE\n",
            "xml                                       FALSE\n",
            "line-numbers                              TRUE\n",
            "unbuffered                                FALSE\n",
            "column-names                              TRUE\n",
            "sigint-ignore                             FALSE\n",
            "port                                      0\n",
            "prompt                                    mysql> \n",
            "quick                                     FALSE\n",
            "raw                                       FALSE\n",
            "reconnect                                 FALSE\n",
            "socket                                    (No default value)\n",
            "server-public-key-path                    (No default value)\n",
            "get-server-public-key                     FALSE\n",
            "ssl-ca                                    (No default value)\n",
            "ssl-capath                                (No default value)\n",
            "ssl-cert                                  (No default value)\n",
            "ssl-cipher                                (No default value)\n",
            "ssl-key                                   (No default value)\n",
            "ssl-crl                                   (No default value)\n",
            "ssl-crlpath                               (No default value)\n",
            "tls-version                               (No default value)\n",
            "tls-ciphersuites                          (No default value)\n",
            "ssl-session-data                          (No default value)\n",
            "ssl-session-data-continue-on-failed-reuse FALSE\n",
            "table                                     FALSE\n",
            "user                                      (No default value)\n",
            "safe-updates                              FALSE\n",
            "i-am-a-dummy                              FALSE\n",
            "connect-timeout                           0\n",
            "max-allowed-packet                        16777216\n",
            "net-buffer-length                         16384\n",
            "select-limit                              1000\n",
            "max-join-size                             1000000\n",
            "show-warnings                             FALSE\n",
            "plugin-dir                                (No default value)\n",
            "default-auth                              (No default value)\n",
            "binary-mode                               FALSE\n",
            "connect-expired-password                  FALSE\n",
            "network-namespace                         (No default value)\n",
            "compression-algorithms                    (No default value)\n",
            "zstd-compression-level                    3\n",
            "load-data-local-dir                       (No default value)\n",
            "fido-register-factor                      (No default value)\n",
            "authentication-oci-client-config-profile  (No default value)\n",
            "oci-config-file                           (No default value)\n"
          ]
        }
      ],
      "source": [
        "! sudo mysql -e \"ALTER USER 'root'@ 'localhost'IDENTIFIED By 'root'; FLUSH PRIVILEGES;\"\n",
        "!mysql select * from -p -e \"show password;\"\n"
      ]
    },
    {
      "cell_type": "code",
      "execution_count": null,
      "metadata": {
        "colab": {
          "base_uri": "https://localhost:8080/"
        },
        "id": "3hyeluLVs1Yl",
        "outputId": "1c16e59a-0ea8-44ff-b695-12c25df5bae0"
      },
      "outputs": [
        {
          "name": "stdout",
          "output_type": "stream",
          "text": [
            "Enter password: \n"
          ]
        }
      ],
      "source": [
        "!mysql -u root -p -e \"CREATE TABLE IF NOT EXISTS mysql.books(title varchar(255)not null,author varchar(255));\""
      ]
    },
    {
      "cell_type": "code",
      "execution_count": null,
      "metadata": {
        "colab": {
          "base_uri": "https://localhost:8080/"
        },
        "id": "wnXwT3SWyjiP",
        "outputId": "c86f2073-24b6-471d-d498-c398494e3c29"
      },
      "outputs": [
        {
          "name": "stdout",
          "output_type": "stream",
          "text": [
            "Enter password: \n"
          ]
        }
      ],
      "source": [
        "!mysql -u root -p -e \"INSERT  INTO mysql.books(title,author) VALUES('khushi','neeyati')\""
      ]
    },
    {
      "cell_type": "code",
      "execution_count": null,
      "metadata": {
        "colab": {
          "base_uri": "https://localhost:8080/"
        },
        "id": "aQq5exCAz4t6",
        "outputId": "5b68dd0d-652f-483d-9c04-d70d9f04689d"
      },
      "outputs": [
        {
          "name": "stdout",
          "output_type": "stream",
          "text": [
            "Enter password: \n",
            "+--------+---------+\n",
            "| title  | author  |\n",
            "+--------+---------+\n",
            "| khushi | neeyati |\n",
            "+--------+---------+\n"
          ]
        }
      ],
      "source": [
        "!mysql -u root -p -e\"select * from mysql.books;\""
      ]
    },
    {
      "cell_type": "code",
      "execution_count": null,
      "metadata": {
        "colab": {
          "background_save": true,
          "base_uri": "https://localhost:8080/"
        },
        "id": "8WG3r7uKxM6f",
        "outputId": "c912ad91-66e7-4f8a-e33d-b32dd5efa1e7"
      },
      "outputs": [
        {
          "name": "stdout",
          "output_type": "stream",
          "text": [
            "Reading package lists... Done\n",
            "Building dependency tree... Done\n",
            "Reading state information... Done\n",
            "mysql-server is already the newest version (8.0.36-0ubuntu0.22.04.1).\n",
            "0 upgraded, 0 newly installed, 0 to remove and 32 not upgraded.\n",
            " * Starting MySQL database server mysqld\n",
            "   ...done.\n",
            "Requirement already satisfied: mysql-connector-python in /usr/local/lib/python3.10/dist-packages (8.3.0)\n",
            " * Starting MySQL database server mysqld\n",
            "   ...done.\n",
            "Enter password: \n",
            "Welcome to the MySQL monitor.  Commands end with ; or \\g.\n",
            "Your MySQL connection id is 27\n",
            "Server version: 8.0.36-0ubuntu0.22.04.1 (Ubuntu)\n",
            "\n",
            "Copyright (c) 2000, 2024, Oracle and/or its affiliates.\n",
            "\n",
            "Oracle is a registered trademark of Oracle Corporation and/or its\n",
            "affiliates. Other names may be trademarks of their respective\n",
            "owners.\n",
            "\n",
            "Type 'help;' or '\\h' for help. Type '\\c' to clear the current input statement.\n",
            "\n",
            "mysql> \"select * from mysql.books;\"\n",
            "    -> "
          ]
        }
      ],
      "source": [
        "!apt-get -y install mysql-server\n",
        "!service mysql start\n",
        "!pip install mysql-connector-python\n",
        "!sudo service mysql start\n",
        "!sudo mysql -u root -p\n",
        "import mysql.connector\n",
        "\n",
        "# Create a connection to the MySQL server\n",
        "conn = mysql.connector.connect(user='root', password='root', host='localhost')\n",
        "\n",
        "# Create a cursor to interact with the MySQL server\n",
        "cursor = conn.cursor()"
      ]
    },
    {
      "cell_type": "code",
      "execution_count": null,
      "metadata": {
        "colab": {
          "base_uri": "https://localhost:8080/"
        },
        "id": "HQ_qRHlZzFO8",
        "outputId": "02d47601-49f1-4c9f-cfd2-f2c29e491ac5"
      },
      "outputs": [
        {
          "name": "stdout",
          "output_type": "stream",
          "text": [
            "Enter password: \n",
            "+--------+---------+\n",
            "| title  | author  |\n",
            "+--------+---------+\n",
            "| khushi | neeyati |\n",
            "+--------+---------+\n"
          ]
        }
      ],
      "source": [
        "!mysql -u root -p -e\"select * from mysql.books;\""
      ]
    }
  ],
  "metadata": {
    "colab": {
      "provenance": [],
      "authorship_tag": "ABX9TyNfARKfBlCMNKBFBIeyLlay",
      "include_colab_link": true
    },
    "kernelspec": {
      "display_name": "Python 3",
      "name": "python3"
    },
    "language_info": {
      "name": "python"
    }
  },
  "nbformat": 4,
  "nbformat_minor": 0
}