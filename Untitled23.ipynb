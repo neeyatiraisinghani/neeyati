{
  "nbformat": 4,
  "nbformat_minor": 0,
  "metadata": {
    "colab": {
      "provenance": [],
      "authorship_tag": "ABX9TyMxjudFBhrb34cFZ+6qwDe6",
      "include_colab_link": true
    },
    "kernelspec": {
      "name": "python3",
      "display_name": "Python 3"
    },
    "language_info": {
      "name": "python"
    }
  },
  "cells": [
    {
      "cell_type": "markdown",
      "metadata": {
        "id": "view-in-github",
        "colab_type": "text"
      },
      "source": [
        "<a href=\"https://colab.research.google.com/github/neeyatiraisinghani/neeyati/blob/main/Untitled23.ipynb\" target=\"_parent\"><img src=\"https://colab.research.google.com/assets/colab-badge.svg\" alt=\"Open In Colab\"/></a>"
      ]
    },
    {
      "cell_type": "code",
      "execution_count": null,
      "metadata": {
        "colab": {
          "base_uri": "https://localhost:8080/"
        },
        "id": "aQYIjY0LgPKh",
        "outputId": "cdc04a89-4a7b-447b-f7da-efb83b7a0028"
      },
      "outputs": [
        {
          "output_type": "stream",
          "name": "stdout",
          "text": [
            "[ 1000  2000  3000  4000  5000  6000  7000  8000  9000 10000]\n",
            "[ 100  200  300  400  500  600  700  800  900 1000]\n",
            "home_train : [10000  3000  5000  4000  1000]\n",
            "home_test :  [6000 7000 8000 9000 2000]\n",
            "price_train :  [1000  300  500  400  100]\n",
            "price_test :  [600 700 800 900 200]\n"
          ]
        }
      ],
      "source": [
        "import numpy as np\n",
        "\n",
        "import sklearn as sk\n",
        "from sklearn.model_selection import train_test_split\n",
        "\n",
        "# importing data\n",
        "home=np.array([1000,2000,3000,4000,5000,6000,7000,8000,9000,10000])\n",
        "\n",
        "price=np.array([100,200,300,400,500,600,700,800,900,1000])\n",
        "\n",
        "# head of the data\n",
        "print(home)\n",
        "print(price)\n",
        "\n",
        "\n",
        "# using the train test split function\n",
        "home_train, home_test, price_train, price_test = train_test_split(home,price, random_state=41,test_size=0.5, shuffle=True)\n",
        "\n",
        "# printing out train and test sets\n",
        "\n",
        "print(\"home_train :\",home_train)\n",
        "\n",
        "print(\"home_test : \",home_test)\n",
        "\n",
        "print('price_train : ',price_train)\n",
        "\n",
        "print(\"price_test : \",price_test)\n"
      ]
    },
    {
      "cell_type": "code",
      "source": [
        "import numpy as np\n",
        "\n",
        "import sklearn as sk\n",
        "\n",
        "from sklearn.model_selection import train_test_split\n",
        "\n",
        "\n",
        "\n",
        "from sklearn.linear_model import LinearRegression\n",
        "home=np.array([100, 200, 300, 400, 500])\n",
        "\n",
        "price = np.array([1500, 2500, 3500,4500, 5500])\n",
        "\n",
        "print(home)\n",
        "\n",
        "print(price)\n",
        "\n",
        "home_train, home_test, price_train, price_test = train_test_split( home, price, random_state=41, test_size=0.5,shuffle=True)\n",
        "\n",
        "print(\"home_train:\",home_train)\n",
        "\n",
        "print(\"home_test:\", home_test)\n",
        "\n",
        "print(\"price_train:\",price_train)\n",
        "\n",
        "print(\"price_test:\",price_test)\n",
        "\n",
        "home_train=home_train.reshape(-1,1)\n",
        "\n",
        "home_test=home_test.reshape(-1,1)\n",
        "\n",
        "price_train=price_train.reshape(-1,1)\n",
        "\n",
        "price_test-price_test.reshape(-1,1)\n",
        "\n",
        "regr= LinearRegression()\n",
        "\n",
        "regr.fit(home_train, price_train)\n",
        "\n",
        "print(regr.score(home_test,price_test))\n",
        "print(regr.predict(home_test))"
      ],
      "metadata": {
        "colab": {
          "base_uri": "https://localhost:8080/"
        },
        "id": "cLCvO9eUilaP",
        "outputId": "655f303c-06a6-4dab-ee23-549a20dd7f11"
      },
      "execution_count": null,
      "outputs": [
        {
          "output_type": "stream",
          "name": "stdout",
          "text": [
            "[100 200 300 400 500]\n",
            "[1500 2500 3500 4500 5500]\n",
            "home_train: [400 100]\n",
            "home_test: [200 300 500]\n",
            "price_train: [4500 1500]\n",
            "price_test: [2500 3500 5500]\n",
            "1.0\n",
            "[[2500.]\n",
            " [3500.]\n",
            " [5500.]]\n"
          ]
        }
      ]
    },
    {
      "cell_type": "code",
      "source": [
        "list=[]\n",
        "while True:\n",
        "  a=input(\"enter a string\")\n",
        "  length=len(a)\n",
        "  if length==0:\n",
        "     print('user presssed enter')\n",
        "     break\n",
        "  list.append(a)\n",
        "print(list)"
      ],
      "metadata": {
        "colab": {
          "base_uri": "https://localhost:8080/"
        },
        "id": "-Nb9Pz7OjxGQ",
        "outputId": "a63b3053-2cb4-4584-f016-0b657f5fd648"
      },
      "execution_count": 10,
      "outputs": [
        {
          "output_type": "stream",
          "name": "stdout",
          "text": [
            "enter a string2\n",
            "enter a string3\n",
            "enter a string\n",
            "user presssed enter\n",
            "['2', '3']\n"
          ]
        }
      ]
    },
    {
      "cell_type": "code",
      "source": [
        "import random\n",
        "\n",
        "while True:\n",
        "    user_action = input(\"Enter a choice (rock, paper, scissors): \")\n",
        "    possible_actions = [\"rock\", \"paper\", \"scissors\"]\n",
        "    computer_action = random.choice(possible_actions)\n",
        "    print(f\"\\nYou chose {user_action}, computer chose {computer_action}.\\n\")\n",
        "\n",
        "    if user_action == computer_action:\n",
        "        print(f\"Both players selected {user_action}. It's a tie!\")\n",
        "    elif user_action == \"rock\":\n",
        "        if computer_action == \"scissors\":\n",
        "            print(\"Rock smashes scissors! You win!\")\n",
        "        else:\n",
        "            print(\"Paper covers rock! You lose.\")\n",
        "    elif user_action == \"paper\":\n",
        "        if computer_action == \"rock\":\n",
        "            print(\"Paper covers rock! You win!\")\n",
        "        else:\n",
        "            print(\"Scissors cuts paper! You lose.\")\n",
        "    elif user_action == \"scissors\":\n",
        "        if computer_action == \"paper\":\n",
        "            print(\"Scissors cuts paper! You win!\")\n",
        "        else:\n",
        "            print(\"Rock smashes scissors! You lose.\")\n",
        "\n",
        "    play_again = input(\"Play again? (y/n): \")\n",
        "    if play_again.lower() != \"y\":\n",
        "        break"
      ],
      "metadata": {
        "colab": {
          "base_uri": "https://localhost:8080/"
        },
        "id": "6OsahjdMmc1Z",
        "outputId": "172f6544-457b-4f41-cb43-b853f2cde6ff"
      },
      "execution_count": 3,
      "outputs": [
        {
          "name": "stdout",
          "output_type": "stream",
          "text": [
            "Enter a choice (rock, paper, scissors): rock\n",
            "\n",
            "You chose rock, computer chose scissors.\n",
            "\n",
            "Rock smashes scissors! You win!\n",
            "Play again? (y/n): y\n",
            "Enter a choice (rock, paper, scissors): scissors\n",
            "\n",
            "You chose scissors, computer chose paper.\n",
            "\n",
            "Scissors cuts paper! You win!\n",
            "Play again? (y/n): n\n"
          ]
        }
      ]
    }
  ]
}