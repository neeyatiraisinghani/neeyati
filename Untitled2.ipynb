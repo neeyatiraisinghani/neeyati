{
  "nbformat": 4,
  "nbformat_minor": 0,
  "metadata": {
    "colab": {
      "provenance": [],
      "authorship_tag": "ABX9TyOtGUXi4TK4ElvdJiEIh445",
      "include_colab_link": true
    },
    "kernelspec": {
      "name": "python3",
      "display_name": "Python 3"
    },
    "language_info": {
      "name": "python"
    }
  },
  "cells": [
    {
      "cell_type": "markdown",
      "metadata": {
        "id": "view-in-github",
        "colab_type": "text"
      },
      "source": [
        "<a href=\"https://colab.research.google.com/github/neeyatiraisinghani/neeyati/blob/main/Untitled2.ipynb\" target=\"_parent\"><img src=\"https://colab.research.google.com/assets/colab-badge.svg\" alt=\"Open In Colab\"/></a>"
      ]
    },
    {
      "cell_type": "code",
      "execution_count": 28,
      "metadata": {
        "colab": {
          "base_uri": "https://localhost:8080/"
        },
        "id": "Sy9oCknItVDy",
        "outputId": "5e0219fc-8ab2-4460-a880-de5d0cb90858"
      },
      "outputs": [
        {
          "output_type": "stream",
          "name": "stdout",
          "text": [
            "enter a value10\n",
            "enter another number20\n",
            "enter another  number30\n",
            "c is bigger\n"
          ]
        }
      ],
      "source": [
        "a=input(\"enter a value\")\n",
        "a=int(a)\n",
        "b=input(\"enter another number\")\n",
        "b=int(b)\n",
        "c=input(\"enter another  number\")\n",
        "c=int(c)\n",
        "if a>b:\n",
        "     print('a is bigger')\n",
        "elif b>c:\n",
        "    print('true')\n",
        "elif c>a:\n",
        "      print('c is bigger')\n",
        "else:\n",
        "    print('b is bigger')\n",
        "\n"
      ]
    },
    {
      "cell_type": "code",
      "source": [
        "a=input(\"enter a value\")\n",
        "a=int(a)\n",
        "b=input(\"enter a value\")\n",
        "b=int(b)\n",
        "c=input(\"enter a value\")\n",
        "c=int(c)\n",
        "\n",
        "\n",
        "\n",
        "if a%3==0 and a%5==0 and a%7==0:\n",
        " print(\" a is divisible by 3,5,7 \")\n",
        "\n",
        "if b%3==0:\n",
        " print(\" b is divisible \")\n",
        "\n",
        "if c%3==0:\n",
        "  print('c is divisible')\n",
        "\n",
        "else:\n",
        "    print('it is not divisible')\n",
        "\n",
        "\n"
      ],
      "metadata": {
        "id": "K0VFTNwv0Uex",
        "outputId": "8a60a255-b5e3-4b78-f98f-db4b2f1d96c5",
        "colab": {
          "base_uri": "https://localhost:8080/"
        }
      },
      "execution_count": 38,
      "outputs": [
        {
          "output_type": "stream",
          "name": "stdout",
          "text": [
            "enter a value30\n",
            "enter a value25\n",
            "enter a value45\n",
            "c is divisible\n"
          ]
        }
      ]
    },
    {
      "cell_type": "code",
      "source": [
        "a=input(\"enter a value\")\n",
        "a=int(a)\n",
        "if a>10:\n",
        " print('a is greater than 10')\n",
        "elif a==1:\n",
        " print('value of a is:',a)\n",
        "elif a==2:\n",
        " print('value of a is:',a)\n",
        "elif a==3:\n",
        " print('value of a is:',a)\n",
        "elif a==4:\n",
        " print('value of a is:',a)\n",
        "elif a==5:\n",
        " print('value of a is:',a)\n",
        "elif a==6:\n",
        " print('value of a is:',a)\n",
        "elif a==7:\n",
        " print('value of a is:',a)\n",
        "elif a==8:\n",
        " print('value of a is:',a)\n",
        "elif a==9:\n",
        " print('value of a is:',a)\n",
        "elif a==10:\n",
        " print('value of a is:',a)\n",
        "else:\n",
        "  print('it is not correct')\n",
        "\n",
        "\n"
      ],
      "metadata": {
        "id": "5FBTRc1Q8hKj",
        "outputId": "a4c79492-f121-4873-cc7c-e488058d93ae",
        "colab": {
          "base_uri": "https://localhost:8080/"
        }
      },
      "execution_count": 50,
      "outputs": [
        {
          "output_type": "stream",
          "name": "stdout",
          "text": [
            "enter a value20\n",
            "a is greater than 10\n"
          ]
        }
      ]
    }
  ]
}