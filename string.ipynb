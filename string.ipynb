{
  "nbformat": 4,
  "nbformat_minor": 0,
  "metadata": {
    "colab": {
      "provenance": [],
      "authorship_tag": "ABX9TyMdKfcCUKfiR9Mx9vHUy32o",
      "include_colab_link": true
    },
    "kernelspec": {
      "name": "python3",
      "display_name": "Python 3"
    },
    "language_info": {
      "name": "python"
    }
  },
  "cells": [
    {
      "cell_type": "markdown",
      "metadata": {
        "id": "view-in-github",
        "colab_type": "text"
      },
      "source": [
        "<a href=\"https://colab.research.google.com/github/neeyatiraisinghani/neeyati/blob/main/string.ipynb\" target=\"_parent\"><img src=\"https://colab.research.google.com/assets/colab-badge.svg\" alt=\"Open In Colab\"/></a>"
      ]
    },
    {
      "cell_type": "code",
      "execution_count": 9,
      "metadata": {
        "colab": {
          "base_uri": "https://localhost:8080/"
        },
        "id": "rDlgNNUoQdOB",
        "outputId": "26924017-32a0-4c3a-ebb0-02efc3cfe6e9"
      },
      "outputs": [
        {
          "output_type": "stream",
          "name": "stdout",
          "text": [
            "itayeen SI EMAN YM"
          ]
        }
      ],
      "source": [
        "s=\"MY NAME IS neeyati\"\n",
        "l=len(s)\n",
        "for i in range(l-1,-1,-1):\n",
        "  print(s[i],end=\"\")"
      ]
    },
    {
      "cell_type": "code",
      "source": [
        "s=input(\"\")\n",
        "print(\"even number=\",s[0::2])\n",
        "print(\"odd number=\",s[1::2])"
      ],
      "metadata": {
        "colab": {
          "base_uri": "https://localhost:8080/"
        },
        "id": "mrN_2gFQWAbg",
        "outputId": "8026fd36-30b6-42a8-f730-e0434dbd2311"
      },
      "execution_count": 12,
      "outputs": [
        {
          "output_type": "stream",
          "name": "stdout",
          "text": [
            "neeyati\n",
            "even number= neai\n",
            "odd number= eyt\n"
          ]
        }
      ]
    },
    {
      "cell_type": "code",
      "source": [
        "s=input(\"\")\n",
        "l=len(s)\n",
        "for i in range(l-1,-1,-1):\n",
        "  print(s[i],end=\"\")\n",
        "  break\n",
        "print(\"odd number\",s[1::2])"
      ],
      "metadata": {
        "colab": {
          "base_uri": "https://localhost:8080/"
        },
        "id": "qA0r1SJ6Ymgr",
        "outputId": "a66bfd60-d3ea-47a5-869d-dc9cf19759e2"
      },
      "execution_count": 17,
      "outputs": [
        {
          "output_type": "stream",
          "name": "stdout",
          "text": [
            "neeyati\n",
            "iodd number eyt\n"
          ]
        }
      ]
    },
    {
      "cell_type": "code",
      "source": [
        "s=input(\"\")\n",
        "s.split()"
      ],
      "metadata": {
        "colab": {
          "base_uri": "https://localhost:8080/"
        },
        "id": "khnjPNjFalHD",
        "outputId": "462f104b-9ae3-4b0d-f2c8-da95ea087377"
      },
      "execution_count": 21,
      "outputs": [
        {
          "name": "stdout",
          "output_type": "stream",
          "text": [
            "my name is neeyati\n"
          ]
        },
        {
          "output_type": "execute_result",
          "data": {
            "text/plain": [
              "['my', 'name', 'is', 'neeyati']"
            ]
          },
          "metadata": {},
          "execution_count": 21
        }
      ]
    },
    {
      "cell_type": "code",
      "source": [],
      "metadata": {
        "id": "BnEz5y7MbJRR"
      },
      "execution_count": null,
      "outputs": []
    }
  ]
}