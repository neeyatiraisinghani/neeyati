{
  "nbformat": 4,
  "nbformat_minor": 0,
  "metadata": {
    "colab": {
      "provenance": [],
      "authorship_tag": "ABX9TyN+ha+6uvYIIwQ9heRCJmtN",
      "include_colab_link": true
    },
    "kernelspec": {
      "name": "python3",
      "display_name": "Python 3"
    },
    "language_info": {
      "name": "python"
    }
  },
  "cells": [
    {
      "cell_type": "markdown",
      "metadata": {
        "id": "view-in-github",
        "colab_type": "text"
      },
      "source": [
        "<a href=\"https://colab.research.google.com/github/neeyatiraisinghani/neeyati/blob/main/Untitled4.ipynb\" target=\"_parent\"><img src=\"https://colab.research.google.com/assets/colab-badge.svg\" alt=\"Open In Colab\"/></a>"
      ]
    },
    {
      "cell_type": "code",
      "execution_count": 8,
      "metadata": {
        "id": "qJRNxTAHwUhi"
      },
      "outputs": [],
      "source": [
        "for i in range(5):\n",
        "  if i==3:\n",
        "\n",
        "   continue\n",
        "   print(i)"
      ]
    },
    {
      "cell_type": "code",
      "source": [
        "a=input('enter value')\n",
        "a=int(a)\n",
        "for i in range(1,11):\n",
        " print('a','*',i,'=',a*i)"
      ],
      "metadata": {
        "colab": {
          "base_uri": "https://localhost:8080/"
        },
        "id": "kPPu6GiYxcRJ",
        "outputId": "fb116ef3-431f-48da-a687-40fd964d07db"
      },
      "execution_count": 18,
      "outputs": [
        {
          "output_type": "stream",
          "name": "stdout",
          "text": [
            "enter value12\n",
            "a * 1 = 12\n",
            "a * 2 = 24\n",
            "a * 3 = 36\n",
            "a * 4 = 48\n",
            "a * 5 = 60\n",
            "a * 6 = 72\n",
            "a * 7 = 84\n",
            "a * 8 = 96\n",
            "a * 9 = 108\n",
            "a * 10 = 120\n"
          ]
        }
      ]
    },
    {
      "cell_type": "code",
      "source": [
        "num=int(input(\"enter a value\"))\n",
        "\n",
        "rev=0\n",
        "while(num>0):\n",
        "  r=num%10\n",
        "  rev=rev*10+r\n",
        "  num=num//10\n",
        "  print(\"reverse of a given number is:\",rev)"
      ],
      "metadata": {
        "colab": {
          "base_uri": "https://localhost:8080/"
        },
        "id": "5ZT9F0T814LQ",
        "outputId": "9e9c83f7-90c8-45dc-f800-f3c63bf90e0e"
      },
      "execution_count": 25,
      "outputs": [
        {
          "output_type": "stream",
          "name": "stdout",
          "text": [
            "enter a value123\n",
            "reverse of a given number is: 3\n",
            "reverse of a given number is: 32\n",
            "reverse of a given number is: 321\n"
          ]
        }
      ]
    }
  ]
}