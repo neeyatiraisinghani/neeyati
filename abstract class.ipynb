{
  "nbformat": 4,
  "nbformat_minor": 0,
  "metadata": {
    "colab": {
      "provenance": [],
      "authorship_tag": "ABX9TyOiLKBWWmUD1DnrK7MYIV7D",
      "include_colab_link": true
    },
    "kernelspec": {
      "name": "python3",
      "display_name": "Python 3"
    },
    "language_info": {
      "name": "python"
    }
  },
  "cells": [
    {
      "cell_type": "markdown",
      "metadata": {
        "id": "view-in-github",
        "colab_type": "text"
      },
      "source": [
        "<a href=\"https://colab.research.google.com/github/neeyatiraisinghani/neeyati/blob/main/abstract%20class.ipynb\" target=\"_parent\"><img src=\"https://colab.research.google.com/assets/colab-badge.svg\" alt=\"Open In Colab\"/></a>"
      ]
    },
    {
      "cell_type": "code",
      "execution_count": null,
      "metadata": {
        "colab": {
          "base_uri": "https://localhost:8080/"
        },
        "id": "M-ifVtLq7guf",
        "outputId": "72a6b088-326f-4885-d9b2-c6d05025900d"
      },
      "outputs": [
        {
          "output_type": "stream",
          "name": "stdout",
          "text": [
            "every class has 4 wheels\n",
            "speed is 70km/h\n",
            "every class has 4 wheels\n",
            "speed is 100km/h\n"
          ]
        }
      ],
      "source": [
        "from abc import ABC,abstractmethod\n",
        "class car(ABC):\n",
        "  def show(self):\n",
        "    print(\"every class has 4 wheels\")\n",
        "\n",
        "  def speed(self):\n",
        "      pass\n",
        "class maruti(car):\n",
        "  def speed(self):\n",
        "    print(\"speed is 100km/h\")\n",
        "class suzuki(car):\n",
        "  def speed(self):\n",
        "    print(\"speed is 70km/h\")\n",
        "obj1=suzuki()\n",
        "obj2=maruti()\n",
        "obj1.show()\n",
        "obj1.speed()\n",
        "obj2.show()\n",
        "obj2.speed()\n",
        "\n"
      ]
    },
    {
      "cell_type": "code",
      "source": [
        "class Akilesh:\n",
        "  back=\"oracle DB & java\"\n",
        "  def backend(self):\n",
        "    print(self.back)\n",
        "class Ankush:\n",
        "  front=\"HTML CSS javascript\"\n",
        "  def frontent(self):\n",
        "    print(self.front)\n",
        "class teamlead(Akilesh,Ankush):\n",
        "  def show(self):\n",
        "    print(\"dynamic website created\")\n",
        "\n",
        "T=teamlead()\n",
        "T.backend()\n",
        "T.frontent()\n",
        "T.show()\n",
        "\n",
        "\n",
        "\n"
      ],
      "metadata": {
        "colab": {
          "base_uri": "https://localhost:8080/"
        },
        "id": "dUtZgb7T-gJh",
        "outputId": "e690824b-78ec-410f-cb2b-c97ecc577180"
      },
      "execution_count": null,
      "outputs": [
        {
          "output_type": "stream",
          "name": "stdout",
          "text": [
            "oracle DB & java\n",
            "HTML CSS javascript\n",
            "dynamic website created\n"
          ]
        }
      ]
    }
  ]
}