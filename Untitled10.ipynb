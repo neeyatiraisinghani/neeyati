{
  "nbformat": 4,
  "nbformat_minor": 0,
  "metadata": {
    "colab": {
      "provenance": [],
      "authorship_tag": "ABX9TyPg88kEN2kCJZukjKGQ8FEk",
      "include_colab_link": true
    },
    "kernelspec": {
      "name": "python3",
      "display_name": "Python 3"
    },
    "language_info": {
      "name": "python"
    }
  },
  "cells": [
    {
      "cell_type": "markdown",
      "metadata": {
        "id": "view-in-github",
        "colab_type": "text"
      },
      "source": [
        "<a href=\"https://colab.research.google.com/github/neeyatiraisinghani/neeyati/blob/main/Untitled10.ipynb\" target=\"_parent\"><img src=\"https://colab.research.google.com/assets/colab-badge.svg\" alt=\"Open In Colab\"/></a>"
      ]
    },
    {
      "cell_type": "code",
      "execution_count": null,
      "metadata": {
        "colab": {
          "base_uri": "https://localhost:8080/"
        },
        "id": "u7ylnDA90xjo",
        "outputId": "1912f9c2-79e0-4c92-cca3-0c4fd99484bd"
      },
      "outputs": [
        {
          "output_type": "stream",
          "name": "stdout",
          "text": [
            "yna\n"
          ]
        }
      ],
      "source": [
        "str=\"mynameisneeyati\"\n",
        "print(str[1:4])"
      ]
    },
    {
      "cell_type": "code",
      "source": [
        "n=\"mynameisneeyati\"\n",
        "str=n[2:5]\n",
        "print(str)"
      ],
      "metadata": {
        "colab": {
          "base_uri": "https://localhost:8080/"
        },
        "id": "kuLVcAHw1a9k",
        "outputId": "8a20c148-8859-4b81-f742-07f5b89d8ea6"
      },
      "execution_count": null,
      "outputs": [
        {
          "output_type": "stream",
          "name": "stdout",
          "text": [
            "nam\n"
          ]
        }
      ]
    },
    {
      "cell_type": "code",
      "source": [
        "n=\"   apple  \"\n",
        "\n",
        "str=n.strip()\n",
        "print(\"of all fruits\",str,\"is my favorite\")\n"
      ],
      "metadata": {
        "colab": {
          "base_uri": "https://localhost:8080/"
        },
        "id": "gLXHP6aU11Ub",
        "outputId": "f84466e5-8677-491b-ff28-6db3bf920149"
      },
      "execution_count": null,
      "outputs": [
        {
          "output_type": "stream",
          "name": "stdout",
          "text": [
            "of all fruits apple is my favorite\n"
          ]
        }
      ]
    },
    {
      "cell_type": "code",
      "source": [
        "str=\"my name is neeyati\"\n",
        "n=str.replace(\"neeyati\",\"Rai\")\n",
        "print(n)"
      ],
      "metadata": {
        "colab": {
          "base_uri": "https://localhost:8080/"
        },
        "id": "kGbMdMPp2UF2",
        "outputId": "e8413aca-0489-4e7e-803d-e222c1321b79"
      },
      "execution_count": null,
      "outputs": [
        {
          "output_type": "stream",
          "name": "stdout",
          "text": [
            "my name is Rai\n"
          ]
        }
      ]
    },
    {
      "cell_type": "code",
      "source": [
        "str=\"mynameisneeyati\"\n",
        "n=str.count(\"my\")\n",
        "print(n)\n",
        "\n",
        "\n"
      ],
      "metadata": {
        "colab": {
          "base_uri": "https://localhost:8080/"
        },
        "id": "_pQz7mjF6e5f",
        "outputId": "d9df6109-77e1-4881-c3cf-da0dd9c434c2"
      },
      "execution_count": null,
      "outputs": [
        {
          "output_type": "stream",
          "name": "stdout",
          "text": [
            "1\n"
          ]
        }
      ]
    },
    {
      "cell_type": "code",
      "source": [
        "str=\"mynameisneeyati\"\n",
        "n=str.find(\"my\")\n",
        "print(n)"
      ],
      "metadata": {
        "colab": {
          "base_uri": "https://localhost:8080/"
        },
        "id": "BUVmAEIc7IQf",
        "outputId": "16945b8d-b276-4fa3-bd77-4dde38bb375a"
      },
      "execution_count": null,
      "outputs": [
        {
          "output_type": "stream",
          "name": "stdout",
          "text": [
            "0\n"
          ]
        }
      ]
    },
    {
      "cell_type": "code",
      "source": [
        "str=\"my{0} nameis{1} neeyati{2}\"\n",
        "n=str.format(\"0\",\"1\",\"2\")\n",
        "print(n)\n",
        "\n"
      ],
      "metadata": {
        "id": "jKSCRFL2-Noy",
        "colab": {
          "base_uri": "https://localhost:8080/"
        },
        "outputId": "b93ca919-1ed8-40d3-87a1-ddf32c1927cf"
      },
      "execution_count": null,
      "outputs": [
        {
          "output_type": "stream",
          "name": "stdout",
          "text": [
            "my0 nameis1 neeyati2\n"
          ]
        }
      ]
    },
    {
      "cell_type": "code",
      "source": [
        "str=\"mynameisneeyati{}\"\n",
        "n=str.format(4)\n",
        "print(n)\n"
      ],
      "metadata": {
        "colab": {
          "base_uri": "https://localhost:8080/"
        },
        "id": "Ajq_jdra8d6p",
        "outputId": "f6fb5d91-59de-4081-9ea0-db64cc651295"
      },
      "execution_count": null,
      "outputs": [
        {
          "output_type": "stream",
          "name": "stdout",
          "text": [
            "mynameisneeyati4\n"
          ]
        }
      ]
    }
  ]
}