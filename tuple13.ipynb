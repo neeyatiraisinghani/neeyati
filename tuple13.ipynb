{
  "nbformat": 4,
  "nbformat_minor": 0,
  "metadata": {
    "colab": {
      "provenance": [],
      "authorship_tag": "ABX9TyMban8rDJFu1N09uTaOuhzs",
      "include_colab_link": true
    },
    "kernelspec": {
      "name": "python3",
      "display_name": "Python 3"
    },
    "language_info": {
      "name": "python"
    }
  },
  "cells": [
    {
      "cell_type": "markdown",
      "metadata": {
        "id": "view-in-github",
        "colab_type": "text"
      },
      "source": [
        "<a href=\"https://colab.research.google.com/github/neeyatiraisinghani/neeyati/blob/main/tuple13.ipynb\" target=\"_parent\"><img src=\"https://colab.research.google.com/assets/colab-badge.svg\" alt=\"Open In Colab\"/></a>"
      ]
    },
    {
      "cell_type": "code",
      "execution_count": 1,
      "metadata": {
        "colab": {
          "base_uri": "https://localhost:8080/"
        },
        "id": "CFprDZkgkwzO",
        "outputId": "feeb9d4a-c9de-425a-e5a7-fec1d42f4027"
      },
      "outputs": [
        {
          "output_type": "stream",
          "name": "stdout",
          "text": [
            "('suman', 'arti', 'rohan')\n"
          ]
        }
      ],
      "source": [
        "tuple=(\"suman\",\"arti\",\"rohan\")\n",
        "print(tuple)"
      ]
    },
    {
      "cell_type": "code",
      "source": [
        "tuple=(\"rohan\",\"hari\",\"yogi\")\n",
        "tuple.index(\"rohan\")\n",
        "\n"
      ],
      "metadata": {
        "colab": {
          "base_uri": "https://localhost:8080/"
        },
        "id": "V9iVyfiAmCYT",
        "outputId": "c3f64fae-5a05-498b-d84e-6980f028f533"
      },
      "execution_count": 6,
      "outputs": [
        {
          "output_type": "execute_result",
          "data": {
            "text/plain": [
              "0"
            ]
          },
          "metadata": {},
          "execution_count": 6
        }
      ]
    },
    {
      "cell_type": "code",
      "source": [
        "tuple1=(\"rohan\",\"hari\",\"tiya\")\n",
        "tuple2=(\"riya\",\"priya\",\"rohan\")\n",
        "set1=set(tuple2)\n",
        "set2=set(tuple1)\n",
        "set1.discard(tuple2)\n",
        "print(set1)\n"
      ],
      "metadata": {
        "colab": {
          "base_uri": "https://localhost:8080/"
        },
        "id": "YERXTgGjnBTC",
        "outputId": "04de7cb7-3945-4cb6-d343-53179ed0ed4c"
      },
      "execution_count": 11,
      "outputs": [
        {
          "output_type": "stream",
          "name": "stdout",
          "text": [
            "{'riya', 'priya', 'rohan'}\n"
          ]
        }
      ]
    },
    {
      "cell_type": "code",
      "source": [
        "fruits=(\"mango\",\"guava\",\"grapes\",\"mango\")\n",
        "res=[]\n",
        "for j in range(len(fruits)):\n",
        "  my_fruit=fruits[j]\n",
        "  count=0\n",
        "for i in range(len(fruits)):\n",
        "    if i==j:\n",
        "      continue\n",
        "if fruits[i]==fruits[j]:\n",
        "        count+=1\n",
        "if count>0:\n",
        "  if fruits[j] not in res:\n",
        "      res.append(my_fruit)\n",
        "\n",
        "print(res)\n",
        "\n"
      ],
      "metadata": {
        "colab": {
          "base_uri": "https://localhost:8080/"
        },
        "id": "Fh-EcTlwq6HV",
        "outputId": "7e8014d2-3db2-4102-e9f5-e69af20d2947"
      },
      "execution_count": 24,
      "outputs": [
        {
          "output_type": "stream",
          "name": "stdout",
          "text": [
            "['mango']\n"
          ]
        }
      ]
    }
  ]
}