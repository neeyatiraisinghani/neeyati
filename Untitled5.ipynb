{
  "nbformat": 4,
  "nbformat_minor": 0,
  "metadata": {
    "colab": {
      "provenance": [],
      "authorship_tag": "ABX9TyMDvOA5ed5qRX7R5v8U49gV",
      "include_colab_link": true
    },
    "kernelspec": {
      "name": "python3",
      "display_name": "Python 3"
    },
    "language_info": {
      "name": "python"
    }
  },
  "cells": [
    {
      "cell_type": "markdown",
      "metadata": {
        "id": "view-in-github",
        "colab_type": "text"
      },
      "source": [
        "<a href=\"https://colab.research.google.com/github/neeyatiraisinghani/neeyati/blob/main/Untitled5.ipynb\" target=\"_parent\"><img src=\"https://colab.research.google.com/assets/colab-badge.svg\" alt=\"Open In Colab\"/></a>"
      ]
    },
    {
      "cell_type": "code",
      "execution_count": null,
      "metadata": {
        "colab": {
          "base_uri": "https://localhost:8080/"
        },
        "id": "dvWa4mKv_FCv",
        "outputId": "aadf3800-1975-41c5-cdb6-cd9e9209dc05"
      },
      "outputs": [
        {
          "output_type": "stream",
          "name": "stdout",
          "text": [
            "enter a value10\n",
            "enter a value20\n",
            "30\n"
          ]
        }
      ],
      "source": [
        "\n",
        "  num1=int(input('enter a value'))\n",
        "  num2=int(input('enter a value'))\n",
        "\n",
        "  def sum (num1 ,num2):\n",
        "    print(num1+num2)\n",
        "  sum(num1,num2)\n",
        "\n",
        "\n",
        "\n",
        "\n",
        "\n",
        "\n",
        "\n"
      ]
    },
    {
      "cell_type": "code",
      "source": [
        "def add(*arg):\n",
        "  a=len(arg)\n",
        "  print(arg[a-1])\n",
        "add(1,2,3,4,6)\n",
        "add(1,2,3,4)\n",
        "add(1,2,3)\n",
        "\n",
        "\n"
      ],
      "metadata": {
        "colab": {
          "base_uri": "https://localhost:8080/"
        },
        "id": "CodzZNggCpHu",
        "outputId": "8f57856e-2bee-4702-ac46-4984c881f643"
      },
      "execution_count": null,
      "outputs": [
        {
          "output_type": "stream",
          "name": "stdout",
          "text": [
            "6\n",
            "4\n",
            "3\n"
          ]
        }
      ]
    },
    {
      "cell_type": "code",
      "source": [
        "a=int(input())\n",
        "b=int(input())\n",
        "def add(a,b):\n",
        "\n",
        "\n",
        "  return a+b\n",
        "c=add(a,b)\n",
        "print(c)\n",
        "\n",
        "\n",
        "\n",
        "\n",
        "\n",
        "\n",
        "\n",
        "\n",
        "\n",
        "\n",
        "\n"
      ],
      "metadata": {
        "colab": {
          "base_uri": "https://localhost:8080/"
        },
        "id": "eO-vdjiXEyte",
        "outputId": "80b53915-8f9e-42f0-9390-c60797fe7463"
      },
      "execution_count": null,
      "outputs": [
        {
          "output_type": "stream",
          "name": "stdout",
          "text": [
            "10\n",
            "20\n",
            "30\n"
          ]
        }
      ]
    },
    {
      "cell_type": "code",
      "source": [
        "a=int(input())\n",
        "sum=0\n",
        "temp=a\n",
        "while a>0:\n",
        " r=a%10\n",
        " sum=sum+r*r*r\n",
        " a=a//10\n",
        "if temp==sum:\n",
        "  print('armstrong')\n",
        "else:\n",
        "    print('not armstrong ')\n",
        "\n",
        "\n",
        "\n",
        "\n"
      ],
      "metadata": {
        "id": "Pwfsc0A6MwlV",
        "colab": {
          "base_uri": "https://localhost:8080/"
        },
        "outputId": "967d430f-6914-43f7-aa83-84385eafc0c3"
      },
      "execution_count": 11,
      "outputs": [
        {
          "output_type": "stream",
          "name": "stdout",
          "text": [
            "123\n",
            "not armstrong \n"
          ]
        }
      ]
    },
    {
      "cell_type": "code",
      "source": [
        "num=int(input())\n",
        "fact=1\n",
        "for i in range(1,num+1):\n",
        "  fact=fact*i\n",
        "print(\"factorial:\",fact)"
      ],
      "metadata": {
        "colab": {
          "base_uri": "https://localhost:8080/"
        },
        "id": "8Dj9ZSrwBQ4c",
        "outputId": "672aa77f-4c7b-4d23-ca96-e6fd1c110437"
      },
      "execution_count": 17,
      "outputs": [
        {
          "output_type": "stream",
          "name": "stdout",
          "text": [
            "5\n",
            "factorial: 120\n"
          ]
        }
      ]
    },
    {
      "cell_type": "code",
      "source": [
        "num=int(input())\n",
        "if num>1:\n",
        "  for i in range(2,int(num/2)+1):\n",
        "    if(num%i)==0:\n",
        "      print(\"not prime number\",num)\n",
        "    else:\n",
        "        print(\"is prime number\",num)\n"
      ],
      "metadata": {
        "colab": {
          "base_uri": "https://localhost:8080/"
        },
        "id": "jrZbsymDGizV",
        "outputId": "a2410e2b-7019-46bd-d17a-9f4528f9cad0"
      },
      "execution_count": 23,
      "outputs": [
        {
          "output_type": "stream",
          "name": "stdout",
          "text": [
            "7\n",
            "is prime number 7\n",
            "is prime number 7\n"
          ]
        }
      ]
    }
  ]
}