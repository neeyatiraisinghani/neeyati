{
  "nbformat": 4,
  "nbformat_minor": 0,
  "metadata": {
    "colab": {
      "provenance": [],
      "authorship_tag": "ABX9TyNIuU2bRVc8ge9V59Nrc9wK",
      "include_colab_link": true
    },
    "kernelspec": {
      "name": "python3",
      "display_name": "Python 3"
    },
    "language_info": {
      "name": "python"
    }
  },
  "cells": [
    {
      "cell_type": "markdown",
      "metadata": {
        "id": "view-in-github",
        "colab_type": "text"
      },
      "source": [
        "<a href=\"https://colab.research.google.com/github/neeyatiraisinghani/neeyati/blob/main/file17.ipynb\" target=\"_parent\"><img src=\"https://colab.research.google.com/assets/colab-badge.svg\" alt=\"Open In Colab\"/></a>"
      ]
    },
    {
      "cell_type": "code",
      "execution_count": 1,
      "metadata": {
        "colab": {
          "base_uri": "https://localhost:8080/"
        },
        "id": "M0-YeMyFcsYQ",
        "outputId": "889fbf54-1002-4256-8733-08cec702a073"
      },
      "outputs": [
        {
          "output_type": "stream",
          "name": "stdout",
          "text": [
            "neeyati\n"
          ]
        }
      ],
      "source": [
        "s=\"neeyati\"\n",
        "s.isnumeric()\n",
        "print(s)"
      ]
    },
    {
      "cell_type": "code",
      "source": [
        "s=open(\"neeyatifile.txt\")\n",
        "print(s)\n",
        "print(s.read())\n",
        "print()\n",
        "\n",
        "s.close()\n",
        "\n"
      ],
      "metadata": {
        "colab": {
          "base_uri": "https://localhost:8080/"
        },
        "id": "MmTk-trafFwz",
        "outputId": "d0354f79-0b34-40ca-e31b-2f1efb4a97d3"
      },
      "execution_count": 13,
      "outputs": [
        {
          "output_type": "stream",
          "name": "stdout",
          "text": [
            "<_io.TextIOWrapper name='neeyatifile.txt' mode='r' encoding='UTF-8'>\n",
            "\n",
            "\n"
          ]
        }
      ]
    },
    {
      "cell_type": "code",
      "source": [
        "a=open(\"neeyatifile.txt\",\"r\")\n",
        "\n",
        "print(a.readlines())\n",
        "\n",
        "\n"
      ],
      "metadata": {
        "colab": {
          "base_uri": "https://localhost:8080/"
        },
        "id": "jw5bld21iewR",
        "outputId": "53037944-2b8e-4e48-e2c9-4d15f98afbfd"
      },
      "execution_count": 26,
      "outputs": [
        {
          "output_type": "stream",
          "name": "stdout",
          "text": [
            "['now the file has more content']\n"
          ]
        }
      ]
    }
  ]
}