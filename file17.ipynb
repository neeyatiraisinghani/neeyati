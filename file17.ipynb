{
  "nbformat": 4,
  "nbformat_minor": 0,
  "metadata": {
    "colab": {
      "provenance": [],
      "authorship_tag": "ABX9TyPWvfp95+DHjwC2GMfkJh7M",
      "include_colab_link": true
    },
    "kernelspec": {
      "name": "python3",
      "display_name": "Python 3"
    },
    "language_info": {
      "name": "python"
    }
  },
  "cells": [
    {
      "cell_type": "markdown",
      "metadata": {
        "id": "view-in-github",
        "colab_type": "text"
      },
      "source": [
        "<a href=\"https://colab.research.google.com/github/neeyatiraisinghani/neeyati/blob/main/file17.ipynb\" target=\"_parent\"><img src=\"https://colab.research.google.com/assets/colab-badge.svg\" alt=\"Open In Colab\"/></a>"
      ]
    },
    {
      "cell_type": "code",
      "execution_count": 43,
      "metadata": {
        "colab": {
          "base_uri": "https://localhost:8080/"
        },
        "id": "M0-YeMyFcsYQ",
        "outputId": "36f2f8cf-e19c-416a-aaae-10c716f689a4"
      },
      "outputs": [
        {
          "output_type": "stream",
          "name": "stdout",
          "text": [
            "neeyati\n",
            "True\n",
            "False\n"
          ]
        }
      ],
      "source": [
        "s=(input(\"\"))\n",
        "a=s.isalpha()\n",
        "print(a)\n",
        "b=s.isnumeric()\n",
        "print(b)"
      ]
    },
    {
      "cell_type": "code",
      "source": [
        "s=open(\"neeyatifile.txt\")\n",
        "print(s)\n",
        "a=s.read(2)\n",
        "print(a)\n",
        "\n",
        "s.close()\n",
        "\n"
      ],
      "metadata": {
        "colab": {
          "base_uri": "https://localhost:8080/"
        },
        "id": "MmTk-trafFwz",
        "outputId": "0aba6369-1375-4f60-ebff-e9df44552962"
      },
      "execution_count": 3,
      "outputs": [
        {
          "output_type": "stream",
          "name": "stdout",
          "text": [
            "<_io.TextIOWrapper name='neeyatifile.txt' mode='r' encoding='UTF-8'>\n",
            "my\n"
          ]
        }
      ]
    },
    {
      "cell_type": "code",
      "source": [
        "a=open(\"neeyatifile.txt\",\"r\")\n",
        "print(a)\n",
        "b=a.readline()\n",
        "c=a.readline()\n",
        "print(b,end=\"\")\n",
        "print(c,end=\"\")\n",
        "a.close()\n",
        "\n",
        "\n"
      ],
      "metadata": {
        "colab": {
          "base_uri": "https://localhost:8080/"
        },
        "id": "jw5bld21iewR",
        "outputId": "ca305abe-e690-4aa0-eda2-8935567fccee"
      },
      "execution_count": 12,
      "outputs": [
        {
          "output_type": "stream",
          "name": "stdout",
          "text": [
            "<_io.TextIOWrapper name='neeyatifile.txt' mode='r' encoding='UTF-8'>\n",
            "my name is neeyati\n",
            "im pursuing bca3 year"
          ]
        }
      ]
    },
    {
      "cell_type": "code",
      "source": [
        "a=open(\"doc.txt\",\"w\")\n",
        "n=a.write(\"hello\\n world\\n\")\n",
        "b=a.write(\"bye bye\")\n",
        "print(b)\n",
        "\n",
        "a.close()"
      ],
      "metadata": {
        "id": "D72gLO4nf7Lr",
        "outputId": "65b45490-46be-4e48-bacb-b97d45617fae",
        "colab": {
          "base_uri": "https://localhost:8080/"
        }
      },
      "execution_count": 39,
      "outputs": [
        {
          "output_type": "stream",
          "name": "stdout",
          "text": [
            "7\n"
          ]
        }
      ]
    }
  ]
}