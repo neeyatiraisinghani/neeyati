{
  "nbformat": 4,
  "nbformat_minor": 0,
  "metadata": {
    "colab": {
      "provenance": [],
      "authorship_tag": "ABX9TyPBec/1GdIBCYHHgvDdhjfK",
      "include_colab_link": true
    },
    "kernelspec": {
      "name": "python3",
      "display_name": "Python 3"
    },
    "language_info": {
      "name": "python"
    }
  },
  "cells": [
    {
      "cell_type": "markdown",
      "metadata": {
        "id": "view-in-github",
        "colab_type": "text"
      },
      "source": [
        "<a href=\"https://colab.research.google.com/github/neeyatiraisinghani/neeyati/blob/main/exception%20handling.ipynb\" target=\"_parent\"><img src=\"https://colab.research.google.com/assets/colab-badge.svg\" alt=\"Open In Colab\"/></a>"
      ]
    },
    {
      "cell_type": "code",
      "execution_count": 7,
      "metadata": {
        "colab": {
          "base_uri": "https://localhost:8080/"
        },
        "id": "lwbt9vHiSk9v",
        "outputId": "1a7ef576-b6c6-4f2f-8ad3-2a65fdfbc020"
      },
      "outputs": [
        {
          "output_type": "stream",
          "name": "stdout",
          "text": [
            "10\n",
            "0\n",
            "error\n"
          ]
        }
      ],
      "source": [
        "a=int(input())\n",
        "b=int(input())\n",
        "try:\n",
        " c=a/b\n",
        " print(\"it is divisible \",c)\n",
        "except:\n",
        " print(\"error\")"
      ]
    },
    {
      "cell_type": "code",
      "source": [
        "i=int(input())\n",
        "\n",
        "try:\n",
        "\n",
        "   if i<=0:\n",
        "    raise Exception(\"it is divisible\")\n",
        "except:\n",
        "    print(\"error2\")\n",
        "else:\n",
        "      print(\"not excecuted\")\n",
        "finally:\n",
        "      print(\"always excecuted\")\n",
        "\n",
        "\n"
      ],
      "metadata": {
        "colab": {
          "base_uri": "https://localhost:8080/"
        },
        "id": "WNSqSy0eXP3x",
        "outputId": "29a4e4c6-898a-40a5-b60a-cf16bb47cb43"
      },
      "execution_count": 47,
      "outputs": [
        {
          "output_type": "stream",
          "name": "stdout",
          "text": [
            "3\n",
            "not excecuted\n",
            "always excecuted\n"
          ]
        }
      ]
    }
  ]
}