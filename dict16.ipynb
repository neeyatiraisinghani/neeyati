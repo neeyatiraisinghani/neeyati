{
  "nbformat": 4,
  "nbformat_minor": 0,
  "metadata": {
    "colab": {
      "provenance": [],
      "authorship_tag": "ABX9TyNfFXbX1/IXJGhWI3FxxC56",
      "include_colab_link": true
    },
    "kernelspec": {
      "name": "python3",
      "display_name": "Python 3"
    },
    "language_info": {
      "name": "python"
    }
  },
  "cells": [
    {
      "cell_type": "markdown",
      "metadata": {
        "id": "view-in-github",
        "colab_type": "text"
      },
      "source": [
        "<a href=\"https://colab.research.google.com/github/neeyatiraisinghani/neeyati/blob/main/dict16.ipynb\" target=\"_parent\"><img src=\"https://colab.research.google.com/assets/colab-badge.svg\" alt=\"Open In Colab\"/></a>"
      ]
    },
    {
      "cell_type": "code",
      "execution_count": 30,
      "metadata": {
        "colab": {
          "base_uri": "https://localhost:8080/"
        },
        "id": "ebF1Mk-D6dXK",
        "outputId": "fddee9b8-8f13-4103-8062-b3ed3e14228b"
      },
      "outputs": [
        {
          "output_type": "stream",
          "name": "stdout",
          "text": [
            "name\n",
            "neeyati\n",
            "fees\n",
            "2000\n",
            "duration\n",
            "2 months\n",
            "neeyati\n",
            "neeyati\n",
            "2000\n",
            "2 months\n",
            "name\n",
            "fees\n",
            "duration\n",
            "name neeyati\n",
            "fees 2000\n",
            "duration 2 months\n"
          ]
        }
      ],
      "source": [
        "d={\"name\":\"neeyati\",\"fees\":2000,\"duration\":\"2 months\"}\n",
        "for n in d:\n",
        "  print(n)\n",
        "  print(d[n])\n",
        "n=d.get('name')\n",
        "print(n)\n",
        "for a in d.values():\n",
        "\n",
        "\n",
        " print(a)\n",
        "for a in d.keys():\n",
        "  print(a)\n",
        "for a,b in d.items():\n",
        "    print(a,b)\n",
        "\n"
      ]
    },
    {
      "cell_type": "code",
      "source": [
        "d={\"name\":\"neeyati\",\"fees\":3000,\"duration\":\"2months\"}\n",
        "a=d.pop(\"fees\")\n",
        "print(a)\n",
        "print(d)"
      ],
      "metadata": {
        "colab": {
          "base_uri": "https://localhost:8080/"
        },
        "id": "QwDyRjjlBAB7",
        "outputId": "b6305bd6-042a-43b0-cd99-5616787e1f06"
      },
      "execution_count": 28,
      "outputs": [
        {
          "output_type": "stream",
          "name": "stdout",
          "text": [
            "3000\n",
            "{'name': 'neeyati', 'duration': '2months'}\n"
          ]
        }
      ]
    },
    {
      "cell_type": "code",
      "source": [
        "d={\"name\":\"neeyati\",\"fees\":3000,\"duration\":\"2months\"}\n",
        "del d[\"fees\"]\n",
        "print(d)"
      ],
      "metadata": {
        "colab": {
          "base_uri": "https://localhost:8080/"
        },
        "id": "BbG9fw6_ByFU",
        "outputId": "f48ed4c7-c297-4f1a-fdde-fa972bfb1b71"
      },
      "execution_count": 29,
      "outputs": [
        {
          "output_type": "stream",
          "name": "stdout",
          "text": [
            "{'name': 'neeyati', 'duration': '2months'}\n"
          ]
        }
      ]
    },
    {
      "cell_type": "code",
      "source": [
        "d=dict(name=\"python\",fees=8000)\n",
        "print(d)"
      ],
      "metadata": {
        "colab": {
          "base_uri": "https://localhost:8080/"
        },
        "id": "aWeVYQUrCaNT",
        "outputId": "fdf212eb-d26c-4791-d371-8e30e139954a"
      },
      "execution_count": 31,
      "outputs": [
        {
          "output_type": "stream",
          "name": "stdout",
          "text": [
            "{'name': 'python', 'fees': 8000}\n"
          ]
        }
      ]
    }
  ]
}